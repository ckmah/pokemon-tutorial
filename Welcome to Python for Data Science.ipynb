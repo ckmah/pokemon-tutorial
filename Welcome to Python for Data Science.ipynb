{
 "cells": [
  {
   "cell_type": "markdown",
   "metadata": {},
   "source": [
    "![UBIC logo](img/ubic_logo.png)"
   ]
  },
  {
   "cell_type": "markdown",
   "metadata": {},
   "source": [
    "# Welcome to Python for Data Science"
   ]
  },
  {
   "cell_type": "markdown",
   "metadata": {},
   "source": [
    "This a beginner/intermediate level Python tutorial about some of the most popular python packages in data science and scientific analysis.\n",
    "\n",
    "This notebook was prepared by [Clarence Mah][1]. Source and license info is on [GitHub][2].\n",
    "\n",
    "Adapted from [Andrew Gele's][3]  and [Sang Han's][4] notebooks.\n",
    "\n",
    "\n",
    "[1]: http://github.com/ckmah\n",
    "[2]: http://github.com/ckmah/pokemon-tutorial\n",
    "[3]: https://www.kaggle.com/ndrewgele/d/abcsds/pokemon/visualizing-pok-mon-stats-with-seaborn\n",
    "[4]: https://www.kaggle.com/sanghan/d/abcsds/pokemon/first-gen-pokemon-stats"
   ]
  },
  {
   "cell_type": "markdown",
   "metadata": {},
   "source": [
    "### Table of Contents\n",
    "- [Jupyter Notebooks](#section1)\n",
    "- [Explore Data with Packages](#section2)\n",
    "- [Data Visualization](#section3)"
   ]
  },
  {
   "cell_type": "markdown",
   "metadata": {},
   "source": [
    "<a id='section1'></a>"
   ]
  },
  {
   "cell_type": "markdown",
   "metadata": {},
   "source": [
    "# Jupyter Notebooks\n",
    "\n",
    "Jupyter notebooks are a medium for creating documents that contain executable code, interactive visualizations, and rich text.\n",
    "\n",
    "Run the cell below by pressing **`Ctrl+Enter`**, or **`Shift+Enter`**."
   ]
  },
  {
   "cell_type": "code",
   "execution_count": null,
   "metadata": {
    "collapsed": false
   },
   "outputs": [],
   "source": [
    "print('This is a cell.')"
   ]
  },
  {
   "cell_type": "markdown",
   "metadata": {},
   "source": [
    "Python runs just as you would expect it to with variables, loops, etc."
   ]
  },
  {
   "cell_type": "code",
   "execution_count": null,
   "metadata": {
    "collapsed": true
   },
   "outputs": [],
   "source": [
    "numbers = [1,2,3,4]"
   ]
  },
  {
   "cell_type": "code",
   "execution_count": null,
   "metadata": {
    "collapsed": false
   },
   "outputs": [],
   "source": [
    "# Look at variable\n",
    "numbers"
   ]
  },
  {
   "cell_type": "markdown",
   "metadata": {},
   "source": [
    "One of the most valuable tools is tab completion. Place the cursor after **`range(`** in the following cell, then try pressing **`Shift+Tab`** a couple times slowly, noting how more and more information expands each time."
   ]
  },
  {
   "cell_type": "code",
   "execution_count": null,
   "metadata": {
    "collapsed": true
   },
   "outputs": [],
   "source": [
    "range("
   ]
  },
  {
   "cell_type": "markdown",
   "metadata": {},
   "source": [
    "Feel free to experiment with commands and buttons in the toolbar at the top of the notebook. Use notebook shortcuts by exiting Edit Mode (press **`Esc`**) and entering Command mode. To get a list of shortcuts, press keyboard shortcut **`h`**."
   ]
  },
  {
   "cell_type": "markdown",
   "metadata": {},
   "source": [
    "<a id='section2'></a>\n",
    "<hr>"
   ]
  },
  {
   "cell_type": "markdown",
   "metadata": {},
   "source": [
    "# Explore Data with Packages"
   ]
  },
  {
   "cell_type": "markdown",
   "metadata": {},
   "source": [
    "The open-source ecosystem around Python enables people to share libraries of code as packages. These are some of the most widely used in data science and scientific computing, including the field of bioinformatics.\n",
    "\n",
    "[**`numpy`**][1] - [**[`cheatsheet`]**][2] A library for manipulating multi-dimensional data, linear algebra, and random number functions.\n",
    "\n",
    "[**`pandas`**][3] - [**[`cheatsheet`]**][4] A library for performing data analysis with \"relational\" or \"labeled\" data.\n",
    "\n",
    "[**`matplotlib`**][5] - [**[`cheatsheet`]**][6] A library for plotting figures.\n",
    "\n",
    "[**`seaborn`**][7] - [**[`docs`]**][8] A library based on `matplotlib` that simplifies plotting with improved aesthetics.\n",
    "\n",
    "[1]: https://numpy.org/\n",
    "[2]:  https://s3.amazonaws.com/assets.datacamp.com/blog_assets/Numpy_Python_Cheat_Sheet.pdf\n",
    "\n",
    "[3]: http://pandas.pydata.org/\n",
    "[4]: https://s3.amazonaws.com/assets.datacamp.com/blog_assets/PandasPythonForDataScience.pdf\n",
    "\n",
    "[5]: http://matplotlib.org/\n",
    "[6]: https://s3.amazonaws.com/assets.datacamp.com/blog_assets/Python_Matplotlib_Cheat_Sheet.pdf\n",
    "\n",
    "[7]: http://seaborn.pydata.org/\n",
    "[8]: http://seaborn.pydata.org/api"
   ]
  },
  {
   "cell_type": "markdown",
   "metadata": {},
   "source": [
    "Here, we import the libraries we want to use in this notebook."
   ]
  },
  {
   "cell_type": "code",
   "execution_count": null,
   "metadata": {
    "collapsed": true
   },
   "outputs": [],
   "source": [
    "import pandas as pd\n",
    "import numpy as np\n",
    "import seaborn as sns\n",
    "import matplotlib.pyplot as plt\n",
    "\n",
    "# Render plots inline\n",
    "%matplotlib inline"
   ]
  },
  {
   "cell_type": "markdown",
   "metadata": {},
   "source": [
    "## `numpy`"
   ]
  },
  {
   "cell_type": "markdown",
   "metadata": {},
   "source": [
    "`Numpy` arrays can be created several different ways. Python lists can be converted directly, while `numpy` also includes some functions for generating simple arrays."
   ]
  },
  {
   "cell_type": "code",
   "execution_count": null,
   "metadata": {
    "collapsed": false
   },
   "outputs": [],
   "source": [
    "# Python list\n",
    "a_list = [3,2,1]\n",
    "\n",
    "# Create an array from the list\n",
    "a = np.array(a_list)\n",
    "\n",
    "# Create a constant array of 2s, length 3\n",
    "b = np.full(3, 2, dtype='int')"
   ]
  },
  {
   "cell_type": "code",
   "execution_count": null,
   "metadata": {
    "collapsed": false
   },
   "outputs": [],
   "source": [
    "# Print\n",
    "a"
   ]
  },
  {
   "cell_type": "code",
   "execution_count": null,
   "metadata": {
    "collapsed": false
   },
   "outputs": [],
   "source": [
    "b"
   ]
  },
  {
   "cell_type": "code",
   "execution_count": null,
   "metadata": {
    "collapsed": false
   },
   "outputs": [],
   "source": [
    "np.sort(a)"
   ]
  },
  {
   "cell_type": "markdown",
   "metadata": {},
   "source": [
    "Arrays behave like vectors, where native operators will perform element-wise operations. `numpy` also includes equivalent functions."
   ]
  },
  {
   "cell_type": "code",
   "execution_count": null,
   "metadata": {
    "collapsed": false
   },
   "outputs": [],
   "source": [
    "a + b"
   ]
  },
  {
   "cell_type": "code",
   "execution_count": null,
   "metadata": {
    "collapsed": false
   },
   "outputs": [],
   "source": [
    "np.add(a, b)"
   ]
  },
  {
   "cell_type": "markdown",
   "metadata": {},
   "source": [
    "Try **`subtract()`**, **`multiply()`**, and **`divide()`** with Arrays **`a`** and **`b`** and compare the results to performing the operations with native operators: **`- * /`** ."
   ]
  },
  {
   "cell_type": "code",
   "execution_count": null,
   "metadata": {
    "collapsed": true
   },
   "outputs": [],
   "source": [
    "# TODO: Try subtract, multiply and divide on array `a`\n"
   ]
  },
  {
   "cell_type": "markdown",
   "metadata": {},
   "source": [
    "`numpy` also includes handy functions like **`np.mean()`**, **`np.median()`**, **`np.std()`**, etc."
   ]
  },
  {
   "cell_type": "code",
   "execution_count": null,
   "metadata": {
    "collapsed": false
   },
   "outputs": [],
   "source": [
    "# TODO: Try mean, median, and std on array `a`\n"
   ]
  },
  {
   "cell_type": "markdown",
   "metadata": {},
   "source": [
    "There are many more useful functions that will prove useful depending on the dimensionality of your data and your specific analysis."
   ]
  },
  {
   "cell_type": "markdown",
   "metadata": {},
   "source": [
    "<a id='section2.2'></a>"
   ]
  },
  {
   "cell_type": "markdown",
   "metadata": {},
   "source": [
    "## `pandas`"
   ]
  },
  {
   "cell_type": "markdown",
   "metadata": {},
   "source": [
    "We will be taking a look at the Pokemon Stats dataset.\n",
    "\n",
    "Try tab completing **`pd.read`** to see pandas' read functions. Load the pokemon dataset using the appropriate one.\n",
    "\n",
    "Note: Use the provided **`path_to_file`** variable as the path to the data."
   ]
  },
  {
   "cell_type": "code",
   "execution_count": null,
   "metadata": {
    "collapsed": false
   },
   "outputs": [],
   "source": [
    "# TODO: Use the appropriate read function from pandas.\n",
    "# Hint: the data file is a .csv file\n",
    "path_to_file = 'data/Pokemon.csv'\n",
    "\n",
    "pokemon = pd.read"
   ]
  },
  {
   "cell_type": "markdown",
   "metadata": {},
   "source": [
    "This data structure that pandas stores the data in is called a [**`DataFrame`**][1]. Think of it like a matrix, but more flexible.\n",
    "\n",
    "[1]: http://pandas.pydata.org/pandas-docs/stable/generated/pandas.DataFrame.html"
   ]
  },
  {
   "cell_type": "code",
   "execution_count": null,
   "metadata": {
    "collapsed": false
   },
   "outputs": [],
   "source": [
    "# 800 rows, 13 columns\n",
    "pokemon.shape"
   ]
  },
  {
   "cell_type": "markdown",
   "metadata": {},
   "source": [
    "That might be a lot to view all at once. Preview the first 5 rows of our data with header and row names."
   ]
  },
  {
   "cell_type": "code",
   "execution_count": null,
   "metadata": {
    "collapsed": false,
    "scrolled": true
   },
   "outputs": [],
   "source": [
    "pokemon.head()"
   ]
  },
  {
   "cell_type": "markdown",
   "metadata": {},
   "source": [
    "**`describe()`** is a great function for a quick statistical summary of the numerical variables in your dataset."
   ]
  },
  {
   "cell_type": "code",
   "execution_count": null,
   "metadata": {
    "collapsed": false,
    "scrolled": true
   },
   "outputs": [],
   "source": [
    "pokemon.describe()"
   ]
  },
  {
   "cell_type": "markdown",
   "metadata": {},
   "source": [
    "We can easily select columns by name and rows by index."
   ]
  },
  {
   "cell_type": "code",
   "execution_count": null,
   "metadata": {
    "collapsed": false
   },
   "outputs": [],
   "source": [
    "# Select the `Name` column\n",
    "pokemon['Name']\n",
    "# OR\n",
    "pokemon.Name"
   ]
  },
  {
   "cell_type": "code",
   "execution_count": null,
   "metadata": {
    "collapsed": false
   },
   "outputs": [],
   "source": [
    "# Select the first 5 rows\n",
    "pokemon[:5]"
   ]
  },
  {
   "cell_type": "markdown",
   "metadata": {},
   "source": [
    "A practical use for this would be to select rows and columns *conditionally*. Here we want to only look at Pokemon with more than 75 `Attack` Stat."
   ]
  },
  {
   "cell_type": "code",
   "execution_count": null,
   "metadata": {
    "collapsed": false
   },
   "outputs": [],
   "source": [
    "# Returns True of False for each row (pokemon)\n",
    "pokemon.Attack > 75"
   ]
  },
  {
   "cell_type": "code",
   "execution_count": null,
   "metadata": {
    "collapsed": true
   },
   "outputs": [],
   "source": [
    "# Selects pokemon with > 75 attack\n",
    "pokemon[pokemon.Attack > 75]"
   ]
  },
  {
   "cell_type": "markdown",
   "metadata": {},
   "source": [
    "How would you select all the `Generation 1` Pokemon?"
   ]
  },
  {
   "cell_type": "code",
   "execution_count": null,
   "metadata": {
    "collapsed": false
   },
   "outputs": [],
   "source": [
    "# TODO: Select Generation 1 pokemon\n"
   ]
  },
  {
   "cell_type": "markdown",
   "metadata": {},
   "source": [
    "<a id='section3'></a>\n",
    "<hr>"
   ]
  },
  {
   "cell_type": "markdown",
   "metadata": {},
   "source": [
    "# Data Visualization"
   ]
  },
  {
   "cell_type": "markdown",
   "metadata": {},
   "source": [
    "We're only going to look at first generation Pokemon for the sake of simplicity."
   ]
  },
  {
   "cell_type": "code",
   "execution_count": null,
   "metadata": {
    "collapsed": false
   },
   "outputs": [],
   "source": [
    "# TODO: Use the statement you generated from the previous code cell\n",
    "pokemon = ?"
   ]
  },
  {
   "cell_type": "markdown",
   "metadata": {},
   "source": [
    "## `matplotlib` + `seaborn`"
   ]
  },
  {
   "cell_type": "markdown",
   "metadata": {},
   "source": [
    "\n",
    "Graphs are a great way to explore data statistics. We can make a [boxplot][1] of single variable (column) using **`seaborn`**.\n",
    "\n",
    "[1]: https://en.wikipedia.org/wiki/Box_plot"
   ]
  },
  {
   "cell_type": "code",
   "execution_count": null,
   "metadata": {
    "collapsed": false
   },
   "outputs": [],
   "source": [
    "sns.boxplot(pokemon.HP);"
   ]
  },
  {
   "cell_type": "markdown",
   "metadata": {},
   "source": [
    "Even better, `seaborn` can automatically make a boxplot for each variable out of the box."
   ]
  },
  {
   "cell_type": "code",
   "execution_count": null,
   "metadata": {
    "collapsed": false
   },
   "outputs": [],
   "source": [
    "sns.boxplot(data=pokemon);"
   ]
  },
  {
   "cell_type": "markdown",
   "metadata": {},
   "source": [
    "Since we only want to look at their stats, some variables are irrelevant. Let's exclude those for now.\n",
    "\n",
    "Note: If you are confused about a function or there are too many parameters to keep track of, remember to use tab completion for help. Put your cursor after `pokemon.drop(` and try it out."
   ]
  },
  {
   "cell_type": "code",
   "execution_count": null,
   "metadata": {
    "collapsed": false
   },
   "outputs": [],
   "source": [
    "pokemon = pokemon.drop(['#', 'Total', 'Legendary'],axis='columns')"
   ]
  },
  {
   "cell_type": "markdown",
   "metadata": {},
   "source": [
    "Oops! There's one more variable that we forgot to drop. Let's drop the `Generation` column since we only have Generation 1 in our `DataFrame`.\n",
    "\n",
    "Don't forget to reassign the result to `pokemon` or the dropped column won't be saved."
   ]
  },
  {
   "cell_type": "code",
   "execution_count": null,
   "metadata": {
    "collapsed": true
   },
   "outputs": [],
   "source": [
    "# TODO: Drop Generation column here\n"
   ]
  },
  {
   "cell_type": "markdown",
   "metadata": {},
   "source": [
    "Notice that we now only have relevant columns that are considered a Stat or Pokemon Type."
   ]
  },
  {
   "cell_type": "code",
   "execution_count": null,
   "metadata": {
    "collapsed": false
   },
   "outputs": [],
   "source": [
    "pokemon.head()"
   ]
  },
  {
   "cell_type": "markdown",
   "metadata": {},
   "source": [
    "Great! Let's plot it again with only Stats."
   ]
  },
  {
   "cell_type": "code",
   "execution_count": null,
   "metadata": {
    "collapsed": false,
    "scrolled": true
   },
   "outputs": [],
   "source": [
    "sns.boxplot(data=pokemon);"
   ]
  },
  {
   "cell_type": "markdown",
   "metadata": {},
   "source": [
    "### Fancier Plots"
   ]
  },
  {
   "cell_type": "markdown",
   "metadata": {},
   "source": [
    "We can compare Pokemon stats by type. This particular plot, [`swarmplot`][1] requires data transformed in a certain format. Check out pandas' [`melt`][1] for a description of the transformation.\n",
    "\n",
    "[1]: http://seaborn.pydata.org/generated/seaborn.swarmplot.html\n",
    "[2]: http://pandas.pydata.org/pandas-docs/stable/generated/pandas.melt.html"
   ]
  },
  {
   "cell_type": "code",
   "execution_count": null,
   "metadata": {
    "collapsed": true
   },
   "outputs": [],
   "source": [
    "# Transform data for swarmplot\n",
    "normalized = pd.melt(\n",
    "    pokemon, id_vars=[\"Name\", \"Type 1\", \"Type 2\"], var_name=\"Stat\")"
   ]
  },
  {
   "cell_type": "code",
   "execution_count": null,
   "metadata": {
    "collapsed": false
   },
   "outputs": [],
   "source": [
    "normalized.head()"
   ]
  },
  {
   "cell_type": "code",
   "execution_count": null,
   "metadata": {
    "collapsed": false
   },
   "outputs": [],
   "source": [
    "sns.swarmplot(data=normalized, x='Stat', y='value', hue='Type 1');"
   ]
  },
  {
   "cell_type": "markdown",
   "metadata": {},
   "source": [
    "That looks neat, but seems to be a little cluttered. Using a few Seaborn and Matplotlib functions, we can adjust how our plot looks.\n",
    "On each line below, we will:\n",
    "- [Make the plot larger](http://matplotlib.org/api/figure_api.html#matplotlib.figure.Figure)\n",
    "- [Adjust the y-axis](http://matplotlib.org/api/pyplot_api.html#matplotlib.pyplot.ylim)\n",
    "- Organize the point distribution by type and make the individual points larger\n",
    "- [Move the legend out of the way](http://matplotlib.org/users/legend_guide.html#legend-location)"
   ]
  },
  {
   "cell_type": "code",
   "execution_count": null,
   "metadata": {
    "collapsed": false
   },
   "outputs": [],
   "source": [
    "# Make the plot larger\n",
    "plt.figure(figsize=(12, 10))\n",
    "\n",
    "# Adjust the y-axis\n",
    "plt.ylim(0, 275)\n",
    "\n",
    "# Organize by type [split], make points larger [size]\n",
    "sns.swarmplot(\n",
    "    data=normalized, x='Stat', y='value', hue='Type 1', split=True, size=7);\n",
    "\n",
    "# Move legend out of the way\n",
    "plt.legend(bbox_to_anchor=(1, 1), loc=2, borderaxespad=0.);"
   ]
  },
  {
   "cell_type": "markdown",
   "metadata": {},
   "source": [
    "Make it easier to see types..."
   ]
  },
  {
   "cell_type": "code",
   "execution_count": null,
   "metadata": {
    "collapsed": false,
    "scrolled": false
   },
   "outputs": [],
   "source": [
    "# Set background to white\n",
    "sns.set_style('whitegrid')\n",
    "\n",
    "# Make the plot larger\n",
    "plt.figure(figsize=(12, 10))\n",
    "\n",
    "# Adjust the y-axis\n",
    "plt.ylim(0, 275)\n",
    "\n",
    "# Organize by type [split], make points larger [size]\n",
    "sns.swarmplot(\n",
    "    data=normalized,\n",
    "    x='Stat',\n",
    "    y='value',\n",
    "    hue='Type 1',\n",
    "    split=True,\n",
    "    size=7,\n",
    "    palette='Set3');\n",
    "\n",
    "# Move legend out of the way\n",
    "plt.legend(bbox_to_anchor=(1, 1), loc=2, borderaxespad=0.);"
   ]
  },
  {
   "cell_type": "markdown",
   "metadata": {},
   "source": [
    "## Bonus plot!\n",
    "\n",
    "Compare Stats by types."
   ]
  },
  {
   "cell_type": "code",
   "execution_count": null,
   "metadata": {
    "collapsed": false,
    "scrolled": false
   },
   "outputs": [],
   "source": [
    "# Compare stats by type\n",
    "figure = sns.factorplot(\n",
    "    data=normalized,\n",
    "    x='Type 1',\n",
    "    y='value',\n",
    "    col='Stat',\n",
    "    col_wrap=2,\n",
    "    aspect=2,\n",
    "    kind='box',\n",
    "    palette='Set3');\n",
    "\n",
    "# Rotate x-axis tick labels\n",
    "figure.set_xticklabels(rotation=30);"
   ]
  },
  {
   "cell_type": "markdown",
   "metadata": {},
   "source": [
    "<a id=\"section4\"></a>"
   ]
  }
 ],
 "metadata": {
  "kernelspec": {
   "display_name": "Python 3",
   "language": "python",
   "name": "python3"
  },
  "language_info": {
   "codemirror_mode": {
    "name": "ipython",
    "version": 3
   },
   "file_extension": ".py",
   "mimetype": "text/x-python",
   "name": "python",
   "nbconvert_exporter": "python",
   "pygments_lexer": "ipython3",
   "version": "3.5.2"
  }
 },
 "nbformat": 4,
 "nbformat_minor": 1
}
